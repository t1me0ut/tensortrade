{
 "cells": [
  {
   "cell_type": "markdown",
   "metadata": {},
   "source": [
    "## Install TensorTrade"
   ]
  },
  {
   "cell_type": "code",
   "execution_count": null,
   "metadata": {
    "scrolled": true
   },
   "outputs": [],
   "source": [
    "!python3 -m pip install -e .. -U"
   ]
  },
  {
   "cell_type": "markdown",
   "metadata": {},
   "source": [
    "## Setup Data Fetching"
   ]
  },
  {
   "cell_type": "code",
   "execution_count": 1,
   "metadata": {},
   "outputs": [],
   "source": [
    "import ssl\n",
    "import pandas as pd\n",
    "\n",
    "ssl._create_default_https_context = ssl._create_unverified_context # Only used if pandas gives a SSLError\n",
    "\n",
    "def fetch(exchange_name, symbol, timeframe):\n",
    "    url = \"https://www.cryptodatadownload.com/cdd/\"\n",
    "    filename = \"{}_{}USD_{}.csv\".format(exchange_name, symbol, timeframe)\n",
    "    volume_column = \"Volume {}\".format(symbol)\n",
    "    new_volume_column = \"Volume_{}\".format(symbol)\n",
    "    \n",
    "    df = pd.read_csv(url + filename, skiprows=1)\n",
    "    df = df[::-1]\n",
    "    df = df.drop([\"Symbol\"], axis=1)\n",
    "    df = df.rename({\"Volume USD\": \"volume\", volume_column: new_volume_column}, axis=1)\n",
    "    df = df.set_index(\"Date\")\n",
    "    df.columns = [symbol + \":\" + name.lower() for name in df.columns]\n",
    "                     \n",
    "    return df"
   ]
  },
  {
   "cell_type": "markdown",
   "metadata": {},
   "source": [
    "## Fetch Historical Data"
   ]
  },
  {
   "cell_type": "code",
   "execution_count": 2,
   "metadata": {},
   "outputs": [],
   "source": [
    "coinbase_data = pd.concat([\n",
    "    fetch(\"Coinbase\", \"BTC\", \"1h\"),\n",
    "    fetch(\"Coinbase\", \"ETH\", \"1h\")\n",
    "], axis=1)\n",
    "\n",
    "bitstamp_data = pd.concat([\n",
    "    fetch(\"Bitstamp\", \"BTC\", \"1h\"),\n",
    "    fetch(\"Bitstamp\", \"LTC\", \"1h\")\n",
    "], axis=1)"
   ]
  },
  {
   "cell_type": "code",
   "execution_count": 3,
   "metadata": {},
   "outputs": [
    {
     "data": {
      "text/html": [
       "<div>\n",
       "<style scoped>\n",
       "    .dataframe tbody tr th:only-of-type {\n",
       "        vertical-align: middle;\n",
       "    }\n",
       "\n",
       "    .dataframe tbody tr th {\n",
       "        vertical-align: top;\n",
       "    }\n",
       "\n",
       "    .dataframe thead th {\n",
       "        text-align: right;\n",
       "    }\n",
       "</style>\n",
       "<table border=\"1\" class=\"dataframe\">\n",
       "  <thead>\n",
       "    <tr style=\"text-align: right;\">\n",
       "      <th></th>\n",
       "      <th>BTC:open</th>\n",
       "      <th>BTC:high</th>\n",
       "      <th>BTC:low</th>\n",
       "      <th>BTC:close</th>\n",
       "      <th>BTC:volume_btc</th>\n",
       "      <th>BTC:volume</th>\n",
       "      <th>ETH:open</th>\n",
       "      <th>ETH:high</th>\n",
       "      <th>ETH:low</th>\n",
       "      <th>ETH:close</th>\n",
       "      <th>ETH:volume_eth</th>\n",
       "      <th>ETH:volume</th>\n",
       "    </tr>\n",
       "    <tr>\n",
       "      <th>Date</th>\n",
       "      <th></th>\n",
       "      <th></th>\n",
       "      <th></th>\n",
       "      <th></th>\n",
       "      <th></th>\n",
       "      <th></th>\n",
       "      <th></th>\n",
       "      <th></th>\n",
       "      <th></th>\n",
       "      <th></th>\n",
       "      <th></th>\n",
       "      <th></th>\n",
       "    </tr>\n",
       "  </thead>\n",
       "  <tbody>\n",
       "    <tr>\n",
       "      <th>2017-07-01 11-AM</th>\n",
       "      <td>2505.56</td>\n",
       "      <td>2513.38</td>\n",
       "      <td>2495.12</td>\n",
       "      <td>2509.17</td>\n",
       "      <td>114.60</td>\n",
       "      <td>287000.32</td>\n",
       "      <td>279.98</td>\n",
       "      <td>279.99</td>\n",
       "      <td>272.1</td>\n",
       "      <td>275.01</td>\n",
       "      <td>2455.28</td>\n",
       "      <td>679358.87</td>\n",
       "    </tr>\n",
       "    <tr>\n",
       "      <th>2017-07-01 12-PM</th>\n",
       "      <td>2509.17</td>\n",
       "      <td>2512.87</td>\n",
       "      <td>2484.99</td>\n",
       "      <td>2488.43</td>\n",
       "      <td>157.36</td>\n",
       "      <td>393142.50</td>\n",
       "      <td>275.01</td>\n",
       "      <td>275.01</td>\n",
       "      <td>271.0</td>\n",
       "      <td>274.83</td>\n",
       "      <td>3023.14</td>\n",
       "      <td>824362.87</td>\n",
       "    </tr>\n",
       "    <tr>\n",
       "      <th>2017-07-01 01-PM</th>\n",
       "      <td>2488.43</td>\n",
       "      <td>2488.43</td>\n",
       "      <td>2454.40</td>\n",
       "      <td>2454.43</td>\n",
       "      <td>280.28</td>\n",
       "      <td>693254.01</td>\n",
       "      <td>274.83</td>\n",
       "      <td>274.93</td>\n",
       "      <td>265.0</td>\n",
       "      <td>268.79</td>\n",
       "      <td>11204.43</td>\n",
       "      <td>3010787.99</td>\n",
       "    </tr>\n",
       "    <tr>\n",
       "      <th>2017-07-01 02-PM</th>\n",
       "      <td>2454.43</td>\n",
       "      <td>2473.93</td>\n",
       "      <td>2450.83</td>\n",
       "      <td>2459.35</td>\n",
       "      <td>289.42</td>\n",
       "      <td>712864.80</td>\n",
       "      <td>268.79</td>\n",
       "      <td>269.90</td>\n",
       "      <td>265.0</td>\n",
       "      <td>265.74</td>\n",
       "      <td>6367.05</td>\n",
       "      <td>1702536.85</td>\n",
       "    </tr>\n",
       "    <tr>\n",
       "      <th>2017-07-01 03-PM</th>\n",
       "      <td>2459.35</td>\n",
       "      <td>2475.00</td>\n",
       "      <td>2450.00</td>\n",
       "      <td>2467.83</td>\n",
       "      <td>276.82</td>\n",
       "      <td>682105.41</td>\n",
       "      <td>265.74</td>\n",
       "      <td>272.74</td>\n",
       "      <td>265.0</td>\n",
       "      <td>272.57</td>\n",
       "      <td>5581.66</td>\n",
       "      <td>1500282.55</td>\n",
       "    </tr>\n",
       "  </tbody>\n",
       "</table>\n",
       "</div>"
      ],
      "text/plain": [
       "                  BTC:open  BTC:high  BTC:low  BTC:close  BTC:volume_btc  \\\n",
       "Date                                                                       \n",
       "2017-07-01 11-AM   2505.56   2513.38  2495.12    2509.17          114.60   \n",
       "2017-07-01 12-PM   2509.17   2512.87  2484.99    2488.43          157.36   \n",
       "2017-07-01 01-PM   2488.43   2488.43  2454.40    2454.43          280.28   \n",
       "2017-07-01 02-PM   2454.43   2473.93  2450.83    2459.35          289.42   \n",
       "2017-07-01 03-PM   2459.35   2475.00  2450.00    2467.83          276.82   \n",
       "\n",
       "                  BTC:volume  ETH:open  ETH:high  ETH:low  ETH:close  \\\n",
       "Date                                                                   \n",
       "2017-07-01 11-AM   287000.32    279.98    279.99    272.1     275.01   \n",
       "2017-07-01 12-PM   393142.50    275.01    275.01    271.0     274.83   \n",
       "2017-07-01 01-PM   693254.01    274.83    274.93    265.0     268.79   \n",
       "2017-07-01 02-PM   712864.80    268.79    269.90    265.0     265.74   \n",
       "2017-07-01 03-PM   682105.41    265.74    272.74    265.0     272.57   \n",
       "\n",
       "                  ETH:volume_eth  ETH:volume  \n",
       "Date                                          \n",
       "2017-07-01 11-AM         2455.28   679358.87  \n",
       "2017-07-01 12-PM         3023.14   824362.87  \n",
       "2017-07-01 01-PM        11204.43  3010787.99  \n",
       "2017-07-01 02-PM         6367.05  1702536.85  \n",
       "2017-07-01 03-PM         5581.66  1500282.55  "
      ]
     },
     "execution_count": 3,
     "metadata": {},
     "output_type": "execute_result"
    }
   ],
   "source": [
    "coinbase_data.head()"
   ]
  },
  {
   "cell_type": "code",
   "execution_count": 4,
   "metadata": {},
   "outputs": [
    {
     "data": {
      "text/html": [
       "<div>\n",
       "<style scoped>\n",
       "    .dataframe tbody tr th:only-of-type {\n",
       "        vertical-align: middle;\n",
       "    }\n",
       "\n",
       "    .dataframe tbody tr th {\n",
       "        vertical-align: top;\n",
       "    }\n",
       "\n",
       "    .dataframe thead th {\n",
       "        text-align: right;\n",
       "    }\n",
       "</style>\n",
       "<table border=\"1\" class=\"dataframe\">\n",
       "  <thead>\n",
       "    <tr style=\"text-align: right;\">\n",
       "      <th></th>\n",
       "      <th>BTC:open</th>\n",
       "      <th>BTC:high</th>\n",
       "      <th>BTC:low</th>\n",
       "      <th>BTC:close</th>\n",
       "      <th>BTC:volume_btc</th>\n",
       "      <th>BTC:volume</th>\n",
       "      <th>LTC:open</th>\n",
       "      <th>LTC:high</th>\n",
       "      <th>LTC:low</th>\n",
       "      <th>LTC:close</th>\n",
       "      <th>LTC:volume_ltc</th>\n",
       "      <th>LTC:volume</th>\n",
       "    </tr>\n",
       "    <tr>\n",
       "      <th>Date</th>\n",
       "      <th></th>\n",
       "      <th></th>\n",
       "      <th></th>\n",
       "      <th></th>\n",
       "      <th></th>\n",
       "      <th></th>\n",
       "      <th></th>\n",
       "      <th></th>\n",
       "      <th></th>\n",
       "      <th></th>\n",
       "      <th></th>\n",
       "      <th></th>\n",
       "    </tr>\n",
       "  </thead>\n",
       "  <tbody>\n",
       "    <tr>\n",
       "      <th>2017-07-01 11-AM</th>\n",
       "      <td>2506.50</td>\n",
       "      <td>2510.62</td>\n",
       "      <td>2495.50</td>\n",
       "      <td>2500.00</td>\n",
       "      <td>208.52</td>\n",
       "      <td>521903.70</td>\n",
       "      <td>39.67</td>\n",
       "      <td>39.67</td>\n",
       "      <td>39.32</td>\n",
       "      <td>39.45</td>\n",
       "      <td>49.61</td>\n",
       "      <td>1957.48</td>\n",
       "    </tr>\n",
       "    <tr>\n",
       "      <th>2017-07-01 12-PM</th>\n",
       "      <td>2500.00</td>\n",
       "      <td>2503.69</td>\n",
       "      <td>2488.25</td>\n",
       "      <td>2495.62</td>\n",
       "      <td>243.08</td>\n",
       "      <td>607308.42</td>\n",
       "      <td>39.45</td>\n",
       "      <td>39.57</td>\n",
       "      <td>39.18</td>\n",
       "      <td>39.57</td>\n",
       "      <td>63.62</td>\n",
       "      <td>2507.48</td>\n",
       "    </tr>\n",
       "    <tr>\n",
       "      <th>2017-07-01 01-PM</th>\n",
       "      <td>2495.62</td>\n",
       "      <td>2495.62</td>\n",
       "      <td>2433.59</td>\n",
       "      <td>2449.01</td>\n",
       "      <td>579.13</td>\n",
       "      <td>1421546.81</td>\n",
       "      <td>39.57</td>\n",
       "      <td>39.57</td>\n",
       "      <td>38.80</td>\n",
       "      <td>38.90</td>\n",
       "      <td>564.39</td>\n",
       "      <td>22019.12</td>\n",
       "    </tr>\n",
       "    <tr>\n",
       "      <th>2017-07-01 02-PM</th>\n",
       "      <td>2449.01</td>\n",
       "      <td>2480.60</td>\n",
       "      <td>2438.88</td>\n",
       "      <td>2457.90</td>\n",
       "      <td>528.75</td>\n",
       "      <td>1302198.58</td>\n",
       "      <td>38.90</td>\n",
       "      <td>39.08</td>\n",
       "      <td>38.77</td>\n",
       "      <td>39.06</td>\n",
       "      <td>788.53</td>\n",
       "      <td>30732.98</td>\n",
       "    </tr>\n",
       "    <tr>\n",
       "      <th>2017-07-01 03-PM</th>\n",
       "      <td>2457.90</td>\n",
       "      <td>2471.88</td>\n",
       "      <td>2452.10</td>\n",
       "      <td>2466.35</td>\n",
       "      <td>292.31</td>\n",
       "      <td>719666.88</td>\n",
       "      <td>39.06</td>\n",
       "      <td>39.16</td>\n",
       "      <td>38.73</td>\n",
       "      <td>39.15</td>\n",
       "      <td>666.53</td>\n",
       "      <td>26053.18</td>\n",
       "    </tr>\n",
       "  </tbody>\n",
       "</table>\n",
       "</div>"
      ],
      "text/plain": [
       "                  BTC:open  BTC:high  BTC:low  BTC:close  BTC:volume_btc  \\\n",
       "Date                                                                       \n",
       "2017-07-01 11-AM   2506.50   2510.62  2495.50    2500.00          208.52   \n",
       "2017-07-01 12-PM   2500.00   2503.69  2488.25    2495.62          243.08   \n",
       "2017-07-01 01-PM   2495.62   2495.62  2433.59    2449.01          579.13   \n",
       "2017-07-01 02-PM   2449.01   2480.60  2438.88    2457.90          528.75   \n",
       "2017-07-01 03-PM   2457.90   2471.88  2452.10    2466.35          292.31   \n",
       "\n",
       "                  BTC:volume  LTC:open  LTC:high  LTC:low  LTC:close  \\\n",
       "Date                                                                   \n",
       "2017-07-01 11-AM   521903.70     39.67     39.67    39.32      39.45   \n",
       "2017-07-01 12-PM   607308.42     39.45     39.57    39.18      39.57   \n",
       "2017-07-01 01-PM  1421546.81     39.57     39.57    38.80      38.90   \n",
       "2017-07-01 02-PM  1302198.58     38.90     39.08    38.77      39.06   \n",
       "2017-07-01 03-PM   719666.88     39.06     39.16    38.73      39.15   \n",
       "\n",
       "                  LTC:volume_ltc  LTC:volume  \n",
       "Date                                          \n",
       "2017-07-01 11-AM           49.61     1957.48  \n",
       "2017-07-01 12-PM           63.62     2507.48  \n",
       "2017-07-01 01-PM          564.39    22019.12  \n",
       "2017-07-01 02-PM          788.53    30732.98  \n",
       "2017-07-01 03-PM          666.53    26053.18  "
      ]
     },
     "execution_count": 4,
     "metadata": {},
     "output_type": "execute_result"
    }
   ],
   "source": [
    "bitstamp_data.head()"
   ]
  },
  {
   "cell_type": "markdown",
   "metadata": {},
   "source": [
    "## Define Exchanges\n",
    "\n",
    "An exchange needs a name, an execution service, and streams of price data in order to function properly.\n",
    "\n",
    "The setups supported right now are the simulated execution service using simulated or stochastic data. More execution services will be made available in the future, as well as price streams so that live data and execution can be supported."
   ]
  },
  {
   "cell_type": "code",
   "execution_count": 6,
   "metadata": {},
   "outputs": [],
   "source": [
    "from tensortrade.exchanges import Exchange\n",
    "from tensortrade.exchanges.services.execution.simulated import execute_order\n",
    "from tensortrade.data import Stream\n",
    "\n",
    "coinbase = Exchange(\"coinbase\", service=execute_order)(\n",
    "    Stream(\"USD-BTC\", list(coinbase_data['BTC:close'])),\n",
    "    Stream(\"USD-ETH\", list(coinbase_data['ETH:close']))\n",
    ")\n",
    "\n",
    "bitstamp = Exchange(\"bitstamp\", service=execute_order)(\n",
    "    Stream(\"USD-BTC\", list(bitstamp_data['BTC:close'])),\n",
    "    Stream(\"USD-LTC\", list(bitstamp_data['LTC:close']))\n",
    ")"
   ]
  },
  {
   "cell_type": "markdown",
   "metadata": {},
   "source": [
    "Now that the exchanges have been defined we can define our features that we would like to include, excluding the prices we have provided for the exchanges."
   ]
  },
  {
   "cell_type": "markdown",
   "metadata": {},
   "source": [
    "## Define External Data Feed\n",
    "\n",
    "Here we will define the external feed to use whatever data you would like. From financial indicators to datasets that have nothing to do with instrument prices, they will all have to be defined and incorporated into the external data feed provided to the environment. There is also an internal data feed that is used to collect data on all the wallets and the net worth of the portfolio. You can choose to include this or not by using the `use_internal` parameter of the trading environment."
   ]
  },
  {
   "cell_type": "code",
   "execution_count": 9,
   "metadata": {},
   "outputs": [],
   "source": [
    "import ta\n",
    "\n",
    "from tensortrade.data import DataFeed, Module\n",
    "\n",
    "# Add all features for coinbase bitcoin\n",
    "coinbase_btc = coinbase_data.loc[:, [name.startswith(\"BTC\") for name in coinbase_data.columns]]\n",
    "coinbase_eth = coinbase_data.loc[:, [name.startswith(\"ETH\") for name in coinbase_data.columns]]\n",
    "\n",
    "ta.add_all_ta_features(\n",
    "    coinbase_btc,\n",
    "    colprefix=\"BTC:\",\n",
    "    **{k: \"BTC:\" + k for k in ['open', 'high', 'low', 'close', 'volume']}\n",
    ")\n",
    "\n",
    "\n",
    "with Module(\"coinbase\") as coinbase_ns:\n",
    "    coinbase_nodes = [Stream(name, list(coinbase_btc[name])) for name in coinbase_btc.columns]\n",
    "    coinbase_nodes += [Stream(name, list(coinbase_eth[name])) for name in coinbase_eth.columns]\n",
    "    \n",
    "\n",
    "# Add all features for coinbase ethereum\n",
    "bitstamp_btc = bitstamp_data.loc[:, [name.startswith(\"BTC\") for name in bitstamp_data.columns]]  \n",
    "bitstamp_ltc = bitstamp_data.loc[:, [name.startswith(\"LTC\") for name in bitstamp_data.columns]]\n",
    "\n",
    "ta.add_all_ta_features(\n",
    "    bitstamp_ltc,\n",
    "    colprefix=\"LTC:\",\n",
    "    **{k: \"LTC:\" + k for k in ['open', 'high', 'low', 'close', 'volume']}\n",
    ")\n",
    "\n",
    "with Module(\"bitstamp\") as bitstamp_ns:\n",
    "    bitstamp_nodes = [Stream(name, list(bitstamp_btc[name])) for name in bitstamp_btc.columns]\n",
    "    bitstamp_nodes += [Stream(name, list(bitstamp_ltc[name])) for name in bitstamp_ltc.columns]\n",
    "\n",
    "\n",
    "feed = DataFeed([coinbase_ns, bitstamp_ns])"
   ]
  },
  {
   "cell_type": "code",
   "execution_count": 10,
   "metadata": {},
   "outputs": [
    {
     "data": {
      "text/plain": [
       "{}"
      ]
     },
     "execution_count": 10,
     "metadata": {},
     "output_type": "execute_result"
    }
   ],
   "source": [
    "feed.next()"
   ]
  },
  {
   "cell_type": "markdown",
   "metadata": {},
   "source": [
    "## Portfolio\n",
    "\n",
    "Make the portfolio using the any combinations of exchanges and intruments that the exchange supports"
   ]
  },
  {
   "cell_type": "code",
   "execution_count": 11,
   "metadata": {},
   "outputs": [],
   "source": [
    "from tensortrade.instruments import USD, BTC, ETH, LTC\n",
    "from tensortrade.wallets import Wallet, Portfolio\n",
    "\n",
    "portfolio = Portfolio(USD, [\n",
    "    Wallet(coinbase, 10000 * USD),\n",
    "    Wallet(coinbase, 10 * BTC),\n",
    "    Wallet(coinbase, 5 * ETH),\n",
    "    Wallet(bitstamp, 1000 * USD),\n",
    "    Wallet(bitstamp, 5 * BTC),\n",
    "    Wallet(bitstamp, 3 * LTC),\n",
    "])"
   ]
  },
  {
   "cell_type": "markdown",
   "metadata": {},
   "source": [
    "## Environment"
   ]
  },
  {
   "cell_type": "code",
   "execution_count": 14,
   "metadata": {},
   "outputs": [
    {
     "ename": "IndexError",
     "evalue": "list index out of range",
     "output_type": "error",
     "traceback": [
      "\u001b[1;31m---------------------------------------------------------------------------\u001b[0m",
      "\u001b[1;31mIndexError\u001b[0m                                Traceback (most recent call last)",
      "\u001b[1;32m<ipython-input-14-d0607a4a2abe>\u001b[0m in \u001b[0;36m<module>\u001b[1;34m\u001b[0m\n\u001b[0;32m      7\u001b[0m     \u001b[0mreward_scheme\u001b[0m\u001b[1;33m=\u001b[0m\u001b[1;34m'simple'\u001b[0m\u001b[1;33m,\u001b[0m\u001b[1;33m\u001b[0m\u001b[1;33m\u001b[0m\u001b[0m\n\u001b[0;32m      8\u001b[0m     \u001b[0mwindow_size\u001b[0m\u001b[1;33m=\u001b[0m\u001b[1;36m15\u001b[0m\u001b[1;33m,\u001b[0m\u001b[1;33m\u001b[0m\u001b[1;33m\u001b[0m\u001b[0m\n\u001b[1;32m----> 9\u001b[1;33m     \u001b[0menable_logger\u001b[0m\u001b[1;33m=\u001b[0m\u001b[1;32mFalse\u001b[0m\u001b[1;33m\u001b[0m\u001b[1;33m\u001b[0m\u001b[0m\n\u001b[0m\u001b[0;32m     10\u001b[0m )\n",
      "\u001b[1;32mc:\\users\\a.antipin\\work\\trading\\tensortrade\\tensortrade\\environments\\trading_environment.py\u001b[0m in \u001b[0;36m__init__\u001b[1;34m(self, portfolio, action_scheme, reward_scheme, feed, window_size, use_internal, renderers, **kwargs)\u001b[0m\n\u001b[0;32m    112\u001b[0m         \u001b[0mlogging\u001b[0m\u001b[1;33m.\u001b[0m\u001b[0mgetLogger\u001b[0m\u001b[1;33m(\u001b[0m\u001b[1;34m'tensorflow'\u001b[0m\u001b[1;33m)\u001b[0m\u001b[1;33m.\u001b[0m\u001b[0mdisabled\u001b[0m \u001b[1;33m=\u001b[0m \u001b[0mkwargs\u001b[0m\u001b[1;33m.\u001b[0m\u001b[0mget\u001b[0m\u001b[1;33m(\u001b[0m\u001b[1;34m'disable_tensorflow_logger'\u001b[0m\u001b[1;33m,\u001b[0m \u001b[1;32mTrue\u001b[0m\u001b[1;33m)\u001b[0m\u001b[1;33m\u001b[0m\u001b[1;33m\u001b[0m\u001b[0m\n\u001b[0;32m    113\u001b[0m \u001b[1;33m\u001b[0m\u001b[0m\n\u001b[1;32m--> 114\u001b[1;33m         \u001b[0mself\u001b[0m\u001b[1;33m.\u001b[0m\u001b[0mcompile\u001b[0m\u001b[1;33m(\u001b[0m\u001b[1;33m)\u001b[0m\u001b[1;33m\u001b[0m\u001b[1;33m\u001b[0m\u001b[0m\n\u001b[0m\u001b[0;32m    115\u001b[0m \u001b[1;33m\u001b[0m\u001b[0m\n\u001b[0;32m    116\u001b[0m     \u001b[1;33m@\u001b[0m\u001b[0mproperty\u001b[0m\u001b[1;33m\u001b[0m\u001b[1;33m\u001b[0m\u001b[0m\n",
      "\u001b[1;32mc:\\users\\a.antipin\\work\\trading\\tensortrade\\tensortrade\\environments\\trading_environment.py\u001b[0m in \u001b[0;36mcompile\u001b[1;34m(self)\u001b[0m\n\u001b[0;32m    150\u001b[0m             \u001b[0mself\u001b[0m\u001b[1;33m.\u001b[0m\u001b[0mfeed\u001b[0m \u001b[1;33m=\u001b[0m \u001b[0mself\u001b[0m\u001b[1;33m.\u001b[0m\u001b[0mfeed\u001b[0m \u001b[1;33m+\u001b[0m \u001b[0mcreate_internal_feed\u001b[0m\u001b[1;33m(\u001b[0m\u001b[0mself\u001b[0m\u001b[1;33m.\u001b[0m\u001b[0mportfolio\u001b[0m\u001b[1;33m)\u001b[0m\u001b[1;33m\u001b[0m\u001b[1;33m\u001b[0m\u001b[0m\n\u001b[0;32m    151\u001b[0m \u001b[1;33m\u001b[0m\u001b[0m\n\u001b[1;32m--> 152\u001b[1;33m         \u001b[0minitial_obs\u001b[0m \u001b[1;33m=\u001b[0m \u001b[0mself\u001b[0m\u001b[1;33m.\u001b[0m\u001b[0mfeed\u001b[0m\u001b[1;33m.\u001b[0m\u001b[0mnext\u001b[0m\u001b[1;33m(\u001b[0m\u001b[1;33m)\u001b[0m\u001b[1;33m\u001b[0m\u001b[1;33m\u001b[0m\u001b[0m\n\u001b[0m\u001b[0;32m    153\u001b[0m         \u001b[0mn_features\u001b[0m \u001b[1;33m=\u001b[0m \u001b[0mlen\u001b[0m\u001b[1;33m(\u001b[0m\u001b[0minitial_obs\u001b[0m\u001b[1;33m.\u001b[0m\u001b[0mkeys\u001b[0m\u001b[1;33m(\u001b[0m\u001b[1;33m)\u001b[0m\u001b[1;33m)\u001b[0m \u001b[1;32mif\u001b[0m \u001b[0mself\u001b[0m\u001b[1;33m.\u001b[0m\u001b[0muse_internal\u001b[0m \u001b[1;32melse\u001b[0m \u001b[0mlen\u001b[0m\u001b[1;33m(\u001b[0m\u001b[0mself\u001b[0m\u001b[1;33m.\u001b[0m\u001b[0m_external_keys\u001b[0m\u001b[1;33m)\u001b[0m\u001b[1;33m\u001b[0m\u001b[1;33m\u001b[0m\u001b[0m\n\u001b[0;32m    154\u001b[0m \u001b[1;33m\u001b[0m\u001b[0m\n",
      "\u001b[1;32mc:\\users\\a.antipin\\work\\trading\\tensortrade\\tensortrade\\data\\stream\\feed.py\u001b[0m in \u001b[0;36mnext\u001b[1;34m(self)\u001b[0m\n\u001b[0;32m     89\u001b[0m \u001b[1;33m\u001b[0m\u001b[0m\n\u001b[0;32m     90\u001b[0m     \u001b[1;32mdef\u001b[0m \u001b[0mnext\u001b[0m\u001b[1;33m(\u001b[0m\u001b[0mself\u001b[0m\u001b[1;33m)\u001b[0m\u001b[1;33m:\u001b[0m\u001b[1;33m\u001b[0m\u001b[1;33m\u001b[0m\u001b[0m\n\u001b[1;32m---> 91\u001b[1;33m         \u001b[0mself\u001b[0m\u001b[1;33m.\u001b[0m\u001b[0mrun\u001b[0m\u001b[1;33m(\u001b[0m\u001b[1;33m)\u001b[0m\u001b[1;33m\u001b[0m\u001b[1;33m\u001b[0m\u001b[0m\n\u001b[0m\u001b[0;32m     92\u001b[0m \u001b[1;33m\u001b[0m\u001b[0m\n\u001b[0;32m     93\u001b[0m         \u001b[1;32mfor\u001b[0m \u001b[0mlistener\u001b[0m \u001b[1;32min\u001b[0m \u001b[0mself\u001b[0m\u001b[1;33m.\u001b[0m\u001b[0mlisteners\u001b[0m\u001b[1;33m:\u001b[0m\u001b[1;33m\u001b[0m\u001b[1;33m\u001b[0m\u001b[0m\n",
      "\u001b[1;32mc:\\users\\a.antipin\\work\\trading\\tensortrade\\tensortrade\\data\\stream\\feed.py\u001b[0m in \u001b[0;36mrun\u001b[1;34m(self)\u001b[0m\n\u001b[0;32m     81\u001b[0m \u001b[1;33m\u001b[0m\u001b[0m\n\u001b[0;32m     82\u001b[0m         \u001b[1;32mfor\u001b[0m \u001b[0mnode\u001b[0m \u001b[1;32min\u001b[0m \u001b[0mself\u001b[0m\u001b[1;33m.\u001b[0m\u001b[0mprocess\u001b[0m\u001b[1;33m:\u001b[0m\u001b[1;33m\u001b[0m\u001b[1;33m\u001b[0m\u001b[0m\n\u001b[1;32m---> 83\u001b[1;33m             \u001b[0mnode\u001b[0m\u001b[1;33m.\u001b[0m\u001b[0mrun\u001b[0m\u001b[1;33m(\u001b[0m\u001b[1;33m)\u001b[0m\u001b[1;33m\u001b[0m\u001b[1;33m\u001b[0m\u001b[0m\n\u001b[0m\u001b[0;32m     84\u001b[0m \u001b[1;33m\u001b[0m\u001b[0m\n\u001b[0;32m     85\u001b[0m         \u001b[0msuper\u001b[0m\u001b[1;33m(\u001b[0m\u001b[1;33m)\u001b[0m\u001b[1;33m.\u001b[0m\u001b[0mrun\u001b[0m\u001b[1;33m(\u001b[0m\u001b[1;33m)\u001b[0m\u001b[1;33m\u001b[0m\u001b[1;33m\u001b[0m\u001b[0m\n",
      "\u001b[1;32mc:\\users\\a.antipin\\work\\trading\\tensortrade\\tensortrade\\data\\stream\\node.py\u001b[0m in \u001b[0;36mrun\u001b[1;34m(self)\u001b[0m\n\u001b[0;32m     98\u001b[0m \u001b[1;33m\u001b[0m\u001b[0m\n\u001b[0;32m     99\u001b[0m     \u001b[1;32mdef\u001b[0m \u001b[0mrun\u001b[0m\u001b[1;33m(\u001b[0m\u001b[0mself\u001b[0m\u001b[1;33m)\u001b[0m\u001b[1;33m:\u001b[0m\u001b[1;33m\u001b[0m\u001b[1;33m\u001b[0m\u001b[0m\n\u001b[1;32m--> 100\u001b[1;33m         \u001b[0mself\u001b[0m\u001b[1;33m.\u001b[0m\u001b[0mvalue\u001b[0m \u001b[1;33m=\u001b[0m \u001b[0mself\u001b[0m\u001b[1;33m.\u001b[0m\u001b[0mforward\u001b[0m\u001b[1;33m(\u001b[0m\u001b[1;33m)\u001b[0m\u001b[1;33m\u001b[0m\u001b[1;33m\u001b[0m\u001b[0m\n\u001b[0m\u001b[0;32m    101\u001b[0m \u001b[1;33m\u001b[0m\u001b[0m\n\u001b[0;32m    102\u001b[0m         \u001b[1;32mfor\u001b[0m \u001b[0mlistener\u001b[0m \u001b[1;32min\u001b[0m \u001b[0mself\u001b[0m\u001b[1;33m.\u001b[0m\u001b[0mlisteners\u001b[0m\u001b[1;33m:\u001b[0m\u001b[1;33m\u001b[0m\u001b[1;33m\u001b[0m\u001b[0m\n",
      "\u001b[1;32mc:\\users\\a.antipin\\work\\trading\\tensortrade\\tensortrade\\data\\stream\\node.py\u001b[0m in \u001b[0;36mforward\u001b[1;34m(self)\u001b[0m\n\u001b[0;32m    456\u001b[0m     \u001b[1;32mdef\u001b[0m \u001b[0mforward\u001b[0m\u001b[1;33m(\u001b[0m\u001b[0mself\u001b[0m\u001b[1;33m)\u001b[0m\u001b[1;33m:\u001b[0m\u001b[1;33m\u001b[0m\u001b[1;33m\u001b[0m\u001b[0m\n\u001b[0;32m    457\u001b[0m         \u001b[1;32mif\u001b[0m \u001b[1;32mnot\u001b[0m \u001b[0mself\u001b[0m\u001b[1;33m.\u001b[0m\u001b[0m_node\u001b[0m\u001b[1;33m:\u001b[0m\u001b[1;33m\u001b[0m\u001b[1;33m\u001b[0m\u001b[0m\n\u001b[1;32m--> 458\u001b[1;33m             \u001b[0mself\u001b[0m\u001b[1;33m.\u001b[0m\u001b[0m_node\u001b[0m \u001b[1;33m=\u001b[0m \u001b[0mlist\u001b[0m\u001b[1;33m(\u001b[0m\u001b[0mfilter\u001b[0m\u001b[1;33m(\u001b[0m\u001b[0mself\u001b[0m\u001b[1;33m.\u001b[0m\u001b[0mselector\u001b[0m\u001b[1;33m,\u001b[0m \u001b[0mself\u001b[0m\u001b[1;33m.\u001b[0m\u001b[0minputs\u001b[0m\u001b[1;33m)\u001b[0m\u001b[1;33m)\u001b[0m\u001b[1;33m[\u001b[0m\u001b[1;36m0\u001b[0m\u001b[1;33m]\u001b[0m\u001b[1;33m\u001b[0m\u001b[1;33m\u001b[0m\u001b[0m\n\u001b[0m\u001b[0;32m    459\u001b[0m             \u001b[0mself\u001b[0m\u001b[1;33m.\u001b[0m\u001b[0mname\u001b[0m \u001b[1;33m=\u001b[0m \u001b[0mself\u001b[0m\u001b[1;33m.\u001b[0m\u001b[0m_node\u001b[0m\u001b[1;33m.\u001b[0m\u001b[0mname\u001b[0m\u001b[1;33m\u001b[0m\u001b[1;33m\u001b[0m\u001b[0m\n\u001b[0;32m    460\u001b[0m \u001b[1;33m\u001b[0m\u001b[0m\n",
      "\u001b[1;31mIndexError\u001b[0m: list index out of range"
     ]
    }
   ],
   "source": [
    "from tensortrade.environments import TradingEnvironment\n",
    "\n",
    "env = TradingEnvironment(\n",
    "    feed=feed,\n",
    "    portfolio=portfolio,\n",
    "    action_scheme='managed-risk',\n",
    "    reward_scheme='simple',\n",
    "    window_size=15,\n",
    "    enable_logger=False\n",
    ")"
   ]
  },
  {
   "cell_type": "code",
   "execution_count": 13,
   "metadata": {},
   "outputs": [
    {
     "ename": "NameError",
     "evalue": "name 'env' is not defined",
     "output_type": "error",
     "traceback": [
      "\u001b[1;31m---------------------------------------------------------------------------\u001b[0m",
      "\u001b[1;31mNameError\u001b[0m                                 Traceback (most recent call last)",
      "\u001b[1;32m<ipython-input-13-175cf002e96a>\u001b[0m in \u001b[0;36m<module>\u001b[1;34m\u001b[0m\n\u001b[1;32m----> 1\u001b[1;33m \u001b[0menv\u001b[0m\u001b[1;33m.\u001b[0m\u001b[0mfeed\u001b[0m\u001b[1;33m.\u001b[0m\u001b[0mnext\u001b[0m\u001b[1;33m(\u001b[0m\u001b[1;33m)\u001b[0m\u001b[1;33m\u001b[0m\u001b[1;33m\u001b[0m\u001b[0m\n\u001b[0m",
      "\u001b[1;31mNameError\u001b[0m: name 'env' is not defined"
     ]
    }
   ],
   "source": [
    "env.feed.next()"
   ]
  },
  {
   "cell_type": "code",
   "execution_count": null,
   "metadata": {},
   "outputs": [],
   "source": []
  }
 ],
 "metadata": {
  "kernelspec": {
   "display_name": "Python 3",
   "language": "python",
   "name": "python3"
  },
  "language_info": {
   "codemirror_mode": {
    "name": "ipython",
    "version": 3
   },
   "file_extension": ".py",
   "mimetype": "text/x-python",
   "name": "python",
   "nbconvert_exporter": "python",
   "pygments_lexer": "ipython3",
   "version": "3.6.8"
  }
 },
 "nbformat": 4,
 "nbformat_minor": 2
}
